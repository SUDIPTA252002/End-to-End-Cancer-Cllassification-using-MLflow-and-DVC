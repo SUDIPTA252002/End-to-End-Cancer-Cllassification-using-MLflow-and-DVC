{
 "cells": [
  {
   "cell_type": "code",
   "execution_count": 2,
   "metadata": {},
   "outputs": [
    {
     "data": {
      "text/plain": [
       "'16Kt7T2Pm9BZf_1rd9a3AEAcQ_1BbmP_F'"
      ]
     },
     "execution_count": 2,
     "metadata": {},
     "output_type": "execute_result"
    }
   ],
   "source": [
    "import gdown\n",
    "url=\"https://drive.google.com/file/d/16Kt7T2Pm9BZf_1rd9a3AEAcQ_1BbmP_F/view?usp=drive_link\"\n",
    "file_id=url.split(\"/\")[-2]\n",
    "file_id"
   ]
  },
  {
   "cell_type": "code",
   "execution_count": 5,
   "metadata": {},
   "outputs": [
    {
     "name": "stderr",
     "output_type": "stream",
     "text": [
      "Downloading...\n",
      "From (original): https://drive.google.com/uc?/export=download&id=16Kt7T2Pm9BZf_1rd9a3AEAcQ_1BbmP_F\n",
      "From (redirected): https://drive.google.com/uc?%2Fexport=download&id=16Kt7T2Pm9BZf_1rd9a3AEAcQ_1BbmP_F&confirm=t&uuid=4d861504-a554-4dbf-af07-386202fd35a5\n",
      "To: g:\\End-to-End-Cancer-Cllassification-using-MLflow-and-DVC\\research\\Chest-CT-Scan-Data.zip\n",
      "100%|██████████| 49.0M/49.0M [00:48<00:00, 1.01MB/s]\n"
     ]
    },
    {
     "data": {
      "text/plain": [
       "'Chest-CT-Scan-Data.zip'"
      ]
     },
     "execution_count": 5,
     "metadata": {},
     "output_type": "execute_result"
    }
   ],
   "source": [
    "prefix=\"https://drive.google.com/uc?/export=download&id=\"\n",
    "link=prefix+file_id\n",
    "link\n",
    "\n",
    "gdown.download(link,\"Chest-CT-Scan-Data.zip\")"
   ]
  },
  {
   "cell_type": "code",
   "execution_count": 1,
   "metadata": {},
   "outputs": [
    {
     "name": "stdout",
     "output_type": "stream",
     "text": [
      "[2024-07-26 11:37:50,564: INFO : common :yaml file:g:\\End-to-End-Cancer-Cllassification-using-MLflow-and-DVC\\params.yaml loaded succesfully]\n"
     ]
    }
   ],
   "source": [
    "from cnnClassifier.constants import *\n",
    "from cnnClassifier.utils.common import read_yaml,create_directories\n",
    "\n",
    "params=read_yaml(PARAMS_FILE_PATH)"
   ]
  },
  {
   "cell_type": "code",
   "execution_count": 2,
   "metadata": {},
   "outputs": [
    {
     "data": {
      "text/plain": [
       "ConfigBox({'key': 'value'})"
      ]
     },
     "execution_count": 2,
     "metadata": {},
     "output_type": "execute_result"
    }
   ],
   "source": []
  },
  {
   "cell_type": "code",
   "execution_count": null,
   "metadata": {},
   "outputs": [],
   "source": []
  }
 ],
 "metadata": {
  "kernelspec": {
   "display_name": "cancer",
   "language": "python",
   "name": "python3"
  },
  "language_info": {
   "codemirror_mode": {
    "name": "ipython",
    "version": 3
   },
   "file_extension": ".py",
   "mimetype": "text/x-python",
   "name": "python",
   "nbconvert_exporter": "python",
   "pygments_lexer": "ipython3",
   "version": "3.8.19"
  }
 },
 "nbformat": 4,
 "nbformat_minor": 2
}
