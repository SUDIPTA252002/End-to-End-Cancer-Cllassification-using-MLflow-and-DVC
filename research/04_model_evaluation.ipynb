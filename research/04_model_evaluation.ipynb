{
 "cells": [
  {
   "cell_type": "code",
   "execution_count": 1,
   "metadata": {},
   "outputs": [
    {
     "data": {
      "text/plain": [
       "'g:\\\\End-to-End-Cancer-Cllassification-using-MLflow-and-DVC\\\\research'"
      ]
     },
     "execution_count": 1,
     "metadata": {},
     "output_type": "execute_result"
    }
   ],
   "source": [
    "import os\n",
    "%pwd"
   ]
  },
  {
   "cell_type": "code",
   "execution_count": 2,
   "metadata": {},
   "outputs": [],
   "source": [
    "os.chdir(\"../\")"
   ]
  },
  {
   "cell_type": "code",
   "execution_count": 5,
   "metadata": {},
   "outputs": [
    {
     "data": {
      "text/plain": [
       "'g:\\\\End-to-End-Cancer-Cllassification-using-MLflow-and-DVC'"
      ]
     },
     "execution_count": 5,
     "metadata": {},
     "output_type": "execute_result"
    }
   ],
   "source": [
    "%pwd"
   ]
  },
  {
   "cell_type": "code",
   "execution_count": 4,
   "metadata": {},
   "outputs": [],
   "source": [
    "os.environ[\"MLFLOW_TRACKING_URI\"]=\"https://dagshub.com/sudipta.mahato.ece25/End-to-End-Cancer-Cllassification-using-MLflow-and-DVC.mlflow\"\n",
    "os.environ[\"MLFLOW_TRACKING_USERNAME\"]=\"sudipta.mahato.ece25\"\n",
    "os.environ[\"MLFLOW_TRACKING_PASSWORD\"]=\"15862defaa59e6ab32355f30be42d5c4287bad8c\""
   ]
  },
  {
   "cell_type": "code",
   "execution_count": null,
   "metadata": {},
   "outputs": [],
   "source": [
    "# MLFLOW_TRACKING_URI=https://dagshub.com/sudipta.mahato.ece25/End-to-End-Cancer-Cllassification-using-MLflow-and-DVC.mlflow \\\n",
    "# MLFLOW_TRACKING_USERNAME=sudipta.mahato.ece25 \\\n",
    "# MLFLOW_TRACKING_PASSWORD=15862defaa59e6ab32355f30be42d5c4287bad8c \\\n",
    "# python script.py"
   ]
  },
  {
   "cell_type": "code",
   "execution_count": 10,
   "metadata": {},
   "outputs": [],
   "source": [
    "from dataclasses import dataclass\n",
    "from pathlib import Path\n",
    "\n",
    "@dataclass(frozen=True)\n",
    "class EvaluationConfig:\n",
    "    path_of_model: Path\n",
    "    training_data: Path\n",
    "    all_params: dict\n",
    "    mlflow_uri: str\n",
    "    image_size: list\n",
    "    batch_size: int \n"
   ]
  },
  {
   "cell_type": "code",
   "execution_count": 13,
   "metadata": {},
   "outputs": [],
   "source": [
    "from cnnClassifier.constants import *;\n",
    "from cnnClassifier.utils.common import read_yaml,create_directories\n",
    "class ConfigurationManager:\n",
    "    def __init__(self,config_filepath=CONFIG_FILE_PATH,params_filepath=PARAMS_FILE_PATH):\n",
    "        self.config=read_yaml(config_filepath)\n",
    "        self.params=read_yaml(params_filepath)\n",
    "\n",
    "        create_directories([self.config.artifacts_root])\n",
    "\n",
    "    \n",
    "    def get_evaluation_config(self)->EvaluationConfig:\n",
    "        evaluation_config=EvaluationConfig(\n",
    "            path_of_model=Path(self.config.training.trained_model_path),\n",
    "            training_data=Path(\"artifacts/data_ingestion/Chest-CT-Scan-data\"),\n",
    "            all_params=self.params,\n",
    "            mlflow_uri=\"https://dagshub.com/sudipta.mahato.ece25/End-to-End-Cancer-Cllassification-using-MLflow-and-DVC.mlflow\",\n",
    "            image_size=self.params.IMAGE_SIZE,\n",
    "            batch_size=self.params.BATCH_SIZE\n",
    "        )\n",
    "\n",
    "        return evaluation_config"
   ]
  },
  {
   "cell_type": "code",
   "execution_count": 36,
   "metadata": {},
   "outputs": [],
   "source": [
    "import mlflow.keras\n",
    "import tensorflow as tf\n",
    "from cnnClassifier.utils.common import save_json\n",
    "from urllib.parse import urlparse\n",
    "import mlflow\n",
    "\n",
    "class Evaluation:\n",
    "    def __init__(self,config=EvaluationConfig):\n",
    "        self.config=config\n",
    "    \n",
    "    def valid_generator(self):\n",
    "        datagenerator_kwargs=dict(\n",
    "            rescale=1./255,\n",
    "            validation_split=0.30\n",
    "        )\n",
    "\n",
    "        dataflow_kwargs=dict(\n",
    "            target_size=self.config.image_size[:-1],\n",
    "            batch_size=self.config.batch_size,\n",
    "            interpolation='bilinear'\n",
    "        )\n",
    "\n",
    "        valid_datagenerator=tf.keras.preprocessing.image.ImageDataGenerator(\n",
    "            **datagenerator_kwargs\n",
    "        )\n",
    "\n",
    "        self.valid_datagenerator=valid_datagenerator.flow_from_directory(\n",
    "            directory=self.config.training_data,\n",
    "            shuffle=False,\n",
    "            subset='validation',\n",
    "            **dataflow_kwargs\n",
    "        )\n",
    "\n",
    "    @staticmethod\n",
    "    def load_model(path:Path)->tf.keras.Model:\n",
    "        model=tf.keras.models.load_model(path)\n",
    "        return model\n",
    "        \n",
    "    def evaluate(self):\n",
    "        self.model=self.load_model(self.config.path_of_model)\n",
    "        self.valid_generator()\n",
    "        self.score=self.model.evaluate(self.valid_datagenerator)\n",
    "        self.save_score()\n",
    "\n",
    "    def save_score(self):\n",
    "        scores={\n",
    "                \"loss\":self.score[0],\n",
    "                \"accuarcy\":self.score[1]\n",
    "            }\n",
    "        save_json(path=Path(\"scores.json\"),data=scores)\n",
    "\n",
    "    def log_into_mlflow(self):\n",
    "        mlflow.set_registry_uri(self.config.mlflow_uri)\n",
    "        tracking_url_type_store=urlparse(mlflow.get_tracking_uri()).scheme\n",
    "\n",
    "        with mlflow.start_run():\n",
    "            mlflow.log_params(self.config.all_params)\n",
    "            mlflow.log_metrics({\n",
    "                    \"loss\":self.score[0],\n",
    "                    \"accuracy\":self.score[1]\n",
    "                })\n",
    "            if tracking_url_type_store!='file':\n",
    "                mlflow.keras.log_model(self.model,\"model\",registered_model_name=\"VGG16Model\")\n",
    "            else:\n",
    "                mlflow.keras.log_model(self.model,\"model\")\n",
    "            \n"
   ]
  },
  {
   "cell_type": "code",
   "execution_count": 37,
   "metadata": {},
   "outputs": [
    {
     "name": "stdout",
     "output_type": "stream",
     "text": [
      "[2024-08-02 13:32:41,888: INFO : common :yaml file:config\\config.yaml loaded succesfully]\n",
      "[2024-08-02 13:32:41,901: INFO : common :yaml file:params.yaml loaded succesfully]\n",
      "[2024-08-02 13:32:41,906: INFO : common :Created directory at artifacts]\n"
     ]
    },
    {
     "name": "stdout",
     "output_type": "stream",
     "text": [
      "Found 102 images belonging to 2 classes.\n",
      "4/4 [==============================] - 72s 13s/step - loss: 0.2688 - accuracy: 0.8431\n",
      "[2024-08-02 13:34:04,126: INFO : common :json file saves at:scores.json]\n"
     ]
    },
    {
     "name": "stderr",
     "output_type": "stream",
     "text": [
      "2024/08/02 13:34:08 WARNING mlflow.tensorflow: You are saving a TensorFlow Core model or Keras model without a signature. Inference with mlflow.pyfunc.spark_udf() will not work unless the model's pyfunc representation accepts pandas DataFrames as inference inputs.\n"
     ]
    },
    {
     "name": "stdout",
     "output_type": "stream",
     "text": [
      "[2024-08-02 13:34:40,509: WARNING : save :Found untraced functions such as _jit_compiled_convolution_op, _jit_compiled_convolution_op, _jit_compiled_convolution_op, _jit_compiled_convolution_op, _jit_compiled_convolution_op while saving (showing 5 of 14). These functions will not be directly callable after loading.]\n",
      "[2024-08-02 13:34:48,344: INFO : builder_impl :Assets written to: C:\\Users\\User\\AppData\\Local\\Temp\\tmpuop_hoz_\\model\\data\\model\\assets]\n"
     ]
    },
    {
     "name": "stderr",
     "output_type": "stream",
     "text": [
      "2024/08/02 13:37:14 WARNING mlflow.utils.environment: Encountered an unexpected error while inferring pip requirements (model URI: C:\\Users\\User\\AppData\\Local\\Temp\\tmpuop_hoz_\\model, flavor: tensorflow), fall back to return ['tensorflow==2.12.0']. Set logging level to DEBUG to see the full traceback.\n",
      "c:\\Users\\User\\anaconda3\\envs\\cancer\\lib\\site-packages\\_distutils_hack\\__init__.py:26: UserWarning: Setuptools is replacing distutils.\n",
      "  warnings.warn(\"Setuptools is replacing distutils.\")\n",
      "Successfully registered model 'VGG16Model'.\n",
      "2024/08/02 13:37:48 INFO mlflow.tracking._model_registry.client: Waiting up to 300 seconds for model version to finish creation.                     Model name: VGG16Model, version 1\n",
      "Created version '1' of model 'VGG16Model'.\n"
     ]
    }
   ],
   "source": [
    "from cnnClassifier.exception import CustomException\n",
    "import sys\n",
    "try:\n",
    "    config=ConfigurationManager()\n",
    "    evaluation_config=config.get_evaluation_config()\n",
    "    evaluation=Evaluation(config=evaluation_config)\n",
    "    evaluation.evaluate()\n",
    "    evaluation.log_into_mlflow()\n",
    "\n",
    "except Exception as e:\n",
    "    raise CustomException(e,sys)\n"
   ]
  },
  {
   "cell_type": "code",
   "execution_count": null,
   "metadata": {},
   "outputs": [],
   "source": []
  },
  {
   "cell_type": "code",
   "execution_count": null,
   "metadata": {},
   "outputs": [],
   "source": []
  },
  {
   "cell_type": "code",
   "execution_count": null,
   "metadata": {},
   "outputs": [],
   "source": []
  },
  {
   "cell_type": "markdown",
   "metadata": {},
   "source": []
  }
 ],
 "metadata": {
  "kernelspec": {
   "display_name": "cancer",
   "language": "python",
   "name": "python3"
  },
  "language_info": {
   "codemirror_mode": {
    "name": "ipython",
    "version": 3
   },
   "file_extension": ".py",
   "mimetype": "text/x-python",
   "name": "python",
   "nbconvert_exporter": "python",
   "pygments_lexer": "ipython3",
   "version": "3.8.19"
  }
 },
 "nbformat": 4,
 "nbformat_minor": 2
}
