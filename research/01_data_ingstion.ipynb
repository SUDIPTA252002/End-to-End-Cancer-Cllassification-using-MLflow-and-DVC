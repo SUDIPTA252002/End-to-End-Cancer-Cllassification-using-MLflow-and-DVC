{
 "cells": [
  {
   "cell_type": "code",
   "execution_count": 1,
   "metadata": {},
   "outputs": [
    {
     "data": {
      "text/plain": [
       "'g:\\\\End-to-End-Cancer-Cllassification-using-MLflow-and-DVC\\\\research'"
      ]
     },
     "execution_count": 1,
     "metadata": {},
     "output_type": "execute_result"
    }
   ],
   "source": [
    "import os\n",
    "%pwd"
   ]
  },
  {
   "cell_type": "code",
   "execution_count": 2,
   "metadata": {},
   "outputs": [],
   "source": [
    "os.chdir(\"../\")"
   ]
  },
  {
   "cell_type": "code",
   "execution_count": 3,
   "metadata": {},
   "outputs": [
    {
     "data": {
      "text/plain": [
       "'g:\\\\End-to-End-Cancer-Cllassification-using-MLflow-and-DVC'"
      ]
     },
     "execution_count": 3,
     "metadata": {},
     "output_type": "execute_result"
    }
   ],
   "source": [
    "%pwd"
   ]
  },
  {
   "cell_type": "code",
   "execution_count": 9,
   "metadata": {},
   "outputs": [],
   "source": [
    "from dataclasses import dataclass\n",
    "from pathlib import Path\n",
    "\n",
    "@dataclass(frozen=True)\n",
    "class DataIngestionConfig:\n",
    "    root_dir:Path\n",
    "    source_url:str\n",
    "    local_data_file:Path\n",
    "    unzip_dir:Path"
   ]
  },
  {
   "cell_type": "code",
   "execution_count": 10,
   "metadata": {},
   "outputs": [],
   "source": [
    "from cnnClassifier.constants import *\n",
    "from cnnClassifier.utils.common import read_yaml,create_directories\n",
    "import gdown\n",
    "from cnnClassifier import logger\n",
    "import sys\n",
    "import zipfile\n",
    "from cnnClassifier.exception import CustomException  \n",
    "\n",
    "\n",
    "class ConfigurationManager():\n",
    "    def __init__(self,config_filepath=CONFIG_FILE_PATH,params_filepath=PARAMS_FILE_PATH):\n",
    "        self.config=read_yaml(config_filepath)\n",
    "        self.params=read_yaml(params_filepath)\n",
    "        create_directories([self.config.artifacts_root])\n",
    "\n",
    "    def get_data_ingestion_config(self)->DataIngestionConfig:\n",
    "        config=self.config.data_ingestion\n",
    "        data_ingestion_config=DataIngestionConfig(\n",
    "                                root_dir=config.root_dir,\n",
    "                                source_url=config.source_url,\n",
    "                                local_data_file=config.local_data_file,\n",
    "                                unzip_dir=config.unzip_dir\n",
    "        )\n",
    "\n",
    "        return data_ingestion_config\n",
    "    \n",
    "class DataIngestion:\n",
    "    def __init__(self,config:DataIngestionConfig):\n",
    "        self.config=config\n",
    "\n",
    "    def download_file(self)->str:\n",
    "        try:\n",
    "            dataset_url=self.config.source_url\n",
    "            zip_download_dir=self.config.local_data_file\n",
    "            os.makedirs(self.config.root_dir,exist_ok=True)\n",
    "\n",
    "            file_id=dataset_url.split(\"/\")[-2]\n",
    "            prefix=\"https://drive.google.com/uc?/export=download&id=\"\n",
    "            gdown.download(prefix+file_id,zip_download_dir)\n",
    "\n",
    "            logger.info(f\"Data is downloaded from {dataset_url} into {zip_download_dir}\")\n",
    "        \n",
    "        except Exception as e:\n",
    "            raise CustomException(e,sys)\n",
    "        \n",
    "    def extract_zip_file(self):\n",
    "        try:\n",
    "            unzip_path=self.config.unzip_dir\n",
    "            os.makedirs(unzip_path,exist_ok=True)\n",
    "            with zipfile.ZipFile(self.config.local_data_file,\"r\") as zip_ref:\n",
    "                zip_ref.extractall(unzip_path)\n",
    "            pass\n",
    "        except Exception as e:\n",
    "            raise CustomException(e,sys)"
   ]
  },
  {
   "cell_type": "code",
   "execution_count": 11,
   "metadata": {},
   "outputs": [
    {
     "name": "stdout",
     "output_type": "stream",
     "text": [
      "[2024-07-26 13:31:19,686: INFO : common :yaml file:config\\config.yaml loaded succesfully]\n",
      "[2024-07-26 13:31:19,691: INFO : common :yaml file:params.yaml loaded succesfully]\n",
      "[2024-07-26 13:31:19,694: INFO : common :Created directory at artifacts]\n"
     ]
    },
    {
     "name": "stderr",
     "output_type": "stream",
     "text": [
      "Downloading...\n",
      "From (original): https://drive.google.com/uc?/export=download&id=16Kt7T2Pm9BZf_1rd9a3AEAcQ_1BbmP_F\n",
      "From (redirected): https://drive.google.com/uc?%2Fexport=download&id=16Kt7T2Pm9BZf_1rd9a3AEAcQ_1BbmP_F&confirm=t&uuid=23be28f9-80e5-4c31-858d-498581e3315a\n",
      "To: g:\\End-to-End-Cancer-Cllassification-using-MLflow-and-DVC\\artifacts\\data_ingestion\\data.zip\n",
      "100%|██████████| 49.0M/49.0M [00:12<00:00, 3.85MB/s]"
     ]
    },
    {
     "name": "stdout",
     "output_type": "stream",
     "text": [
      "[2024-07-26 13:31:37,556: INFO : 190058902 :Data is downloaded from https://drive.google.com/file/d/16Kt7T2Pm9BZf_1rd9a3AEAcQ_1BbmP_F/view?usp=drive_link into artifacts/data_ingestion/data.zip]\n"
     ]
    },
    {
     "name": "stderr",
     "output_type": "stream",
     "text": [
      "\n"
     ]
    }
   ],
   "source": [
    "try:\n",
    "    config=ConfigurationManager()\n",
    "    data_ingestion_config=config.get_data_ingestion_config()\n",
    "    data_ingestion=DataIngestion(config=data_ingestion_config)\n",
    "    data_ingestion.download_file()\n",
    "    data_ingestion.extract_zip_file()\n",
    "\n",
    "except Exception as e:\n",
    "    raise CustomException(e,sys)"
   ]
  },
  {
   "cell_type": "code",
   "execution_count": 23,
   "metadata": {},
   "outputs": [
    {
     "data": {
      "text/plain": [
       "'g:\\\\End-to-End-Cancer-Cllassification-using-MLflow-and-DVC'"
      ]
     },
     "execution_count": 23,
     "metadata": {},
     "output_type": "execute_result"
    }
   ],
   "source": [
    "%pwd"
   ]
  },
  {
   "cell_type": "code",
   "execution_count": 68,
   "metadata": {},
   "outputs": [],
   "source": []
  },
  {
   "cell_type": "code",
   "execution_count": 7,
   "metadata": {},
   "outputs": [
    {
     "name": "stdout",
     "output_type": "stream",
     "text": [
      "[2024-07-26 13:20:38,543: INFO : common :yaml file:config\\config.yaml loaded succesfully]\n"
     ]
    },
    {
     "name": "stdout",
     "output_type": "stream",
     "text": [
      "[2024-07-26 13:20:38,660: INFO : common :yaml file:params.yaml loaded succesfully]\n",
      "[2024-07-26 13:20:38,665: INFO : common :Created directory at artifacts]\n"
     ]
    }
   ],
   "source": [
    "c=ConfigurationManager()"
   ]
  },
  {
   "cell_type": "code",
   "execution_count": 61,
   "metadata": {},
   "outputs": [
    {
     "data": {
      "text/plain": [
       "WindowsPath('param.yaml')"
      ]
     },
     "execution_count": 61,
     "metadata": {},
     "output_type": "execute_result"
    }
   ],
   "source": [
    "PARAMS_FILE_PATH"
   ]
  },
  {
   "cell_type": "code",
   "execution_count": 58,
   "metadata": {},
   "outputs": [
    {
     "data": {
      "text/plain": [
       "WindowsPath('config/config.yaml')"
      ]
     },
     "execution_count": 58,
     "metadata": {},
     "output_type": "execute_result"
    }
   ],
   "source": [
    "CONFIG_FILE_PATH"
   ]
  },
  {
   "cell_type": "code",
   "execution_count": null,
   "metadata": {},
   "outputs": [],
   "source": []
  }
 ],
 "metadata": {
  "kernelspec": {
   "display_name": "cancer",
   "language": "python",
   "name": "python3"
  },
  "language_info": {
   "codemirror_mode": {
    "name": "ipython",
    "version": 3
   },
   "file_extension": ".py",
   "mimetype": "text/x-python",
   "name": "python",
   "nbconvert_exporter": "python",
   "pygments_lexer": "ipython3",
   "version": "3.8.19"
  }
 },
 "nbformat": 4,
 "nbformat_minor": 2
}
