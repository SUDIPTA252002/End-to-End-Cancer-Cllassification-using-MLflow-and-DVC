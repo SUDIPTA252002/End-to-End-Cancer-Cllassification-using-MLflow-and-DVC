{
 "cells": [
  {
   "cell_type": "code",
   "execution_count": 1,
   "metadata": {},
   "outputs": [
    {
     "data": {
      "text/plain": [
       "'g:\\\\End-to-End-Cancer-Cllassification-using-MLflow-and-DVC\\\\research'"
      ]
     },
     "execution_count": 1,
     "metadata": {},
     "output_type": "execute_result"
    }
   ],
   "source": [
    "import os\n",
    "%pwd"
   ]
  },
  {
   "cell_type": "code",
   "execution_count": 2,
   "metadata": {},
   "outputs": [],
   "source": [
    "os.chdir(\"../\")"
   ]
  },
  {
   "cell_type": "code",
   "execution_count": 3,
   "metadata": {},
   "outputs": [
    {
     "data": {
      "text/plain": [
       "'g:\\\\End-to-End-Cancer-Cllassification-using-MLflow-and-DVC'"
      ]
     },
     "execution_count": 3,
     "metadata": {},
     "output_type": "execute_result"
    }
   ],
   "source": [
    "%pwd"
   ]
  },
  {
   "cell_type": "code",
   "execution_count": 4,
   "metadata": {},
   "outputs": [],
   "source": [
    "from dataclasses import dataclass\n",
    "from pathlib import Path\n",
    "\n",
    "@dataclass(frozen=True)\n",
    "class TrainingConfig:\n",
    "    root_dir: Path\n",
    "    trained_model_path: Path\n",
    "    updated_base_model_path: Path\n",
    "    training_data: Path\n",
    "    params_epochs: int\n",
    "    params_batch_size: int \n",
    "    params_augmented: bool\n",
    "    params_image_size: list"
   ]
  },
  {
   "cell_type": "code",
   "execution_count": 14,
   "metadata": {},
   "outputs": [],
   "source": [
    "from cnnClassifier.constants import *\n",
    "from cnnClassifier.utils.common import read_yaml,create_directories\n",
    "class ConfigurationManager:\n",
    "    def __init__(self,config_filepath=CONFIG_FILE_PATH,params_filepath=PARAMS_FILE_PATH):\n",
    "        self.config=read_yaml(config_filepath)\n",
    "        self.params=read_yaml(params_filepath)\n",
    "        print(self.config)\n",
    "\n",
    "        create_directories([self.config.artifacts_root])\n",
    "\n",
    "    def get_model_trainer_config(self)->TrainingConfig:\n",
    "        print(1)\n",
    "        training=self.config.training\n",
    "        print(training)\n",
    "        prepare_base_model=self.config.prepare_base_model\n",
    "        params=self.params\n",
    "        training_data=os.path.join(self.config.data_ingestion.unzip_dir,\"Chest-CT-Scan-data\")\n",
    "        create_directories([training.root_dir])\n",
    "        print(training_data)\n",
    "\n",
    "        model_trainer_config=TrainingConfig(\n",
    "            root_dir=Path(training.root_dir),\n",
    "            trained_model_path=Path(training.trained_model_path),\n",
    "            updated_base_model_path=Path(prepare_base_model.updated_base_path),\n",
    "            training_data=Path(training_data),\n",
    "            params_epochs=params.EPOCHS,\n",
    "            params_batch_size=params.BATCH_SIZE,\n",
    "            params_augmented=params.AUGMENTATION,\n",
    "            params_image_size=params.IMAGE_SIZE\n",
    "        )\n",
    "        print(1000)\n",
    "\n",
    "        return model_trainer_config"
   ]
  },
  {
   "cell_type": "code",
   "execution_count": 21,
   "metadata": {},
   "outputs": [],
   "source": [
    "import tensorflow as tf\n",
    "class Training:\n",
    "    def __init__(self,config=TrainingConfig):\n",
    "        self.config=config\n",
    "\n",
    "    def get_base_model(self):\n",
    "        self.model=tf.keras.models.load_model(self.config.updated_base_model_path)\n",
    "\n",
    "    def train_valid_generator(self):\n",
    "        datagenerator_kwargs=dict(\n",
    "            rescale= 1./255,\n",
    "            validation_split=0.20\n",
    "       )\n",
    "        \n",
    "        dataflow_kwargs=dict(\n",
    "            target_size=self.config.params_image_size[:-1],\n",
    "            batch_size=self.config.params_batch_size,\n",
    "            interpolation='bilinear'\n",
    "        )\n",
    "\n",
    "        valid_datagenerator=tf.keras.preprocessing.image.ImageDataGenerator(\n",
    "            **datagenerator_kwargs\n",
    "        )\n",
    "\n",
    "        self.valid_datagenerator=valid_datagenerator.flow_from_directory(\n",
    "            directory=self.config.training_data,\n",
    "            subset='validation',\n",
    "            shuffle=False,\n",
    "            **dataflow_kwargs\n",
    "        )\n",
    "\n",
    "        if self.config.params_augmented:\n",
    "            train_datagenerator=tf.keras.preprocessing.image.ImageDataGenerator(\n",
    "                rotation_range=40,\n",
    "                horizontal_flip=True,\n",
    "                width_shift_range=0.2,\n",
    "                height_shift_range=0.2,\n",
    "                shear_range=0.2,\n",
    "                zoom_range=0.2,\n",
    "                **datagenerator_kwargs\n",
    "            )\n",
    "\n",
    "        else:\n",
    "            train_datagenerator=valid_datagenerator\n",
    "\n",
    "        self.train_datagenerator=train_datagenerator.flow_from_directory(\n",
    "            directory=self.config.training_data,\n",
    "            subset='training',\n",
    "            shuffle=True,\n",
    "            **dataflow_kwargs\n",
    "        )\n",
    "\n",
    "    def train(self):\n",
    "        self.step_per_epochs=self.train_datagenerator.samples//self.train_datagenerator.batch_size\n",
    "        self.validation_steps=self.valid_datagenerator.samples//self.valid_datagenerator.batch_size\n",
    "\n",
    "        early_Stopping=tf.keras.callbacks.EarlyStopping(\n",
    "            monitor='val_loss',\n",
    "            min_delta=0.001,\n",
    "            patience=3,\n",
    "            verbose=1,\n",
    "            mode='auto'\n",
    "        )\n",
    "        self.model.fit(self.train_datagenerator,\n",
    "                       epochs=self.config.params_epochs,\n",
    "                       steps_per_epoch=self.step_per_epochs,\n",
    "                       validation_data=self.valid_datagenerator,\n",
    "                       validation_steps=self.validation_steps,\n",
    "                       callbacks=[early_Stopping]\n",
    "                       )\n",
    "        \n",
    "        self.save_model(path=self.config.trained_model_path,model=self.model)\n",
    "\n",
    "        \n",
    "    @staticmethod\n",
    "    def save_model(path:Path,model:tf.keras.models):\n",
    "        model.save(str(path))\n",
    "\n",
    "        "
   ]
  },
  {
   "cell_type": "code",
   "execution_count": 22,
   "metadata": {},
   "outputs": [
    {
     "name": "stdout",
     "output_type": "stream",
     "text": [
      "[2024-07-30 07:24:21,330: INFO : common :yaml file:config\\config.yaml loaded succesfully]\n",
      "[2024-07-30 07:24:21,700: INFO : common :yaml file:params.yaml loaded succesfully]\n",
      "{'artifacts_root': 'artifacts', 'data_ingestion': {'root_dir': 'artifacts/data_ingestion', 'source_url': 'https://drive.google.com/file/d/16Kt7T2Pm9BZf_1rd9a3AEAcQ_1BbmP_F/view?usp=drive_link', 'local_data_file': 'artifacts/data_ingestion/data.zip', 'unzip_dir': 'artifacts/data_ingestion'}, 'prepare_base_model': {'root_dir': 'artifacts/prep_base_model', 'base_model_path': 'artifacts/prep_base_model/base_model.h5', 'updated_base_path': 'artifacts/prep_base_model/updated_base_model.h5'}, 'training': {'root_dir': 'artifacts/training', 'trained_model_path': 'artifacts/training/model.h5'}}\n",
      "[2024-07-30 07:24:21,762: INFO : common :Created directory at artifacts]\n",
      "1\n",
      "{'root_dir': 'artifacts/training', 'trained_model_path': 'artifacts/training/model.h5'}\n",
      "[2024-07-30 07:24:21,765: INFO : common :Created directory at artifacts/training]\n",
      "artifacts/data_ingestion\\Chest-CT-Scan-data\n",
      "1000\n",
      "Found 68 images belonging to 2 classes.\n",
      "Found 275 images belonging to 2 classes.\n",
      "Epoch 1/5\n",
      "8/8 [==============================] - 164s 21s/step - loss: 20.3990 - accuracy: 0.4444 - val_loss: 0.0581 - val_accuracy: 1.0000\n",
      "Epoch 2/5\n",
      "8/8 [==============================] - 158s 20s/step - loss: 9.4442 - accuracy: 0.7037 - val_loss: 2.5233 - val_accuracy: 0.6094\n",
      "Epoch 3/5\n",
      "8/8 [==============================] - 183s 23s/step - loss: 10.4719 - accuracy: 0.5679 - val_loss: 15.1019 - val_accuracy: 0.6094\n",
      "Epoch 4/5\n",
      "8/8 [==============================] - 172s 22s/step - loss: 14.7078 - accuracy: 0.5267 - val_loss: 11.9410 - val_accuracy: 0.6094\n",
      "Epoch 4: early stopping\n"
     ]
    }
   ],
   "source": [
    "import sys\n",
    "from cnnClassifier.exception import CustomException\n",
    "try:\n",
    "    config=ConfigurationManager()\n",
    "    training_config=config.get_model_trainer_config()\n",
    "    training=Training(config=training_config)\n",
    "    training.get_base_model()\n",
    "    training.train_valid_generator()\n",
    "    training.train()\n",
    "    pass\n",
    "except Exception as e:\n",
    "    raise CustomException(e,sys)"
   ]
  },
  {
   "cell_type": "code",
   "execution_count": null,
   "metadata": {},
   "outputs": [],
   "source": []
  }
 ],
 "metadata": {
  "kernelspec": {
   "display_name": "cancer",
   "language": "python",
   "name": "python3"
  },
  "language_info": {
   "codemirror_mode": {
    "name": "ipython",
    "version": 3
   },
   "file_extension": ".py",
   "mimetype": "text/x-python",
   "name": "python",
   "nbconvert_exporter": "python",
   "pygments_lexer": "ipython3",
   "version": "3.8.19"
  }
 },
 "nbformat": 4,
 "nbformat_minor": 2
}
